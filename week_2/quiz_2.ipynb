{
 "cells": [
  {
   "cell_type": "markdown",
   "metadata": {},
   "source": [
    "So in week 2, you had a refresher about probabilities. Can you answer the following questions?"
   ]
  },
  {
   "cell_type": "code",
   "execution_count": 12,
   "metadata": {},
   "outputs": [],
   "source": [
    "from quiz_creator import create_textinputquiz_widget"
   ]
  },
  {
   "cell_type": "markdown",
   "metadata": {},
   "source": [
    "#### Question 1\n",
    "\n",
    "Below is a table representing postive and negative classes\n",
    "\n",
    "<img src=\"probabilities.jpg\">"
   ]
  },
  {
   "cell_type": "code",
   "execution_count": 20,
   "metadata": {},
   "outputs": [
    {
     "data": {
      "application/vnd.jupyter.widget-view+json": {
       "model_id": "4b69873a5110447db982a583fbeeb1d2",
       "version_major": 2,
       "version_minor": 0
      },
      "text/plain": [
       "VBox(children=(Output(layout=Layout(width='auto')), HBox(children=(Output(layout=Layout(width='auto')), Text(v…"
      ]
     },
     "metadata": {},
     "output_type": "display_data"
    }
   ],
   "source": [
    "create_textinputquiz_widget(\"(1) Assuming '+' represents the 'positive' class, and '-' represents 'negative' class. What would be the probability of the positive class P(+)?\\n\\nEnter answer in 2 decimal places\", \"answer:\", \"0.75\", \"\", \"Number of positve cells/ Total cells\")"
   ]
  },
  {
   "cell_type": "markdown",
   "metadata": {},
   "source": [
    "Solution:\n",
    "\n"
   ]
  }
 ],
 "metadata": {
  "kernelspec": {
   "display_name": "Python 3.8.3 64-bit",
   "language": "python",
   "name": "python38364bitd8f30856f6424fe09e1c2607c3e34710"
  },
  "language_info": {
   "codemirror_mode": {
    "name": "ipython",
    "version": 3
   },
   "file_extension": ".py",
   "mimetype": "text/x-python",
   "name": "python",
   "nbconvert_exporter": "python",
   "pygments_lexer": "ipython3",
   "version": "3.8.3"
  }
 },
 "nbformat": 4,
 "nbformat_minor": 4
}
